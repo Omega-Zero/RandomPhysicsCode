{
 "cells": [
  {
   "cell_type": "markdown",
   "metadata": {},
   "source": [
    "## Numerical Integration of Fourier Coefficients\n",
    "\n",
    "In this part you will calculate the Fourier coefficients by numerically evaluating the integrals:\n",
    "\n",
    "$$\n",
    "a_n={1\\over L}\\int_{-L}^L f(x)\\cos\\left({n\\pi x\\over L}\\right)dx\\qquad (n=0,1,2,\\dots)\n",
    "$$\n",
    "\n",
    "$$\n",
    "b_n={1\\over L}\\int_{-L}^L f(x)\\sin\\left({n\\pi x\\over L}\\right)dx\\qquad (n=1,2,\\dots)\n",
    "$$\n",
    "\n",
    "To see how to do this, recall that we already have discretized the $x$-coordinate, with a spacing $\\Delta x.$ To get an approximation to the area under some function $g(x)$, just calucate the area of a bunch of rectangles of width \n",
    "$\\Delta x$ and height $g(x)$, and add them up:\n",
    "\n",
    "$$\n",
    "\\int_a^b g(x)dx\\approx\\sum_i g(x_i)\\Delta x\n",
    "$$\n",
    "\n",
    "where the sum runs over the different $x$ values. This should be a decent approximation as long as $\\Delta x$ is sufficiently small. However, a better approximation would be to use the average of the integrand at the left and right edges of the interval, so you get a rectangle with an intermediate height. Then the missing bit tends to get compensated by an extra bit. This approach is known as the trapezoid rule.\n",
    "\n",
    "It is probably wise to make sure you understand how the trapezoid rule works by using it to calculate an integral you already know, such as (for example)\n",
    "\n",
    "$$\n",
    "\\int_{-1}^1 (x+x^2)dx\n",
    "$$\n",
    "\n",
    "which you can easily check is equal to $2/3$. Do this in the cell below. Some of the code is already in place for you."
   ]
  },
  {
   "cell_type": "code",
   "execution_count": 1,
   "metadata": {},
   "outputs": [
    {
     "name": "stdout",
     "output_type": "stream",
     "text": [
      "Result using left rectangles is: 0.6466006870047284\n",
      "Result using trapezoid rule is:  0.6668027072067484\n"
     ]
    }
   ],
   "source": [
    "#PHYS 2200 Fall 2019 \"Fill in blanks\" code\n",
    "#Shows \n",
    "#Adjust variable \"n\" to adjust how many masses animation shows.\n",
    "#Meant to be open with Andaconda Navigator's Jupyter Notebook(.ipynb)\n",
    "\n",
    "from numpy import *\n",
    "import matplotlib.pyplot as plt\n",
    "\n",
    "# Number of grid points:\n",
    "n = 100\n",
    "\n",
    "# We will calculate the integral from a to b:\n",
    "a = -1\n",
    "b = 1\n",
    "\n",
    "# Here is the function to be integrated:\n",
    "def g(x):\n",
    "    return (x + x**2)\n",
    "\n",
    "# Set up array of x values:\n",
    "x = linspace(a, b, n)\n",
    "\n",
    "# This is the spacing:\n",
    "dx = x[1] - x[0]\n",
    "\n",
    "# First, do the integral using left rectangles.\n",
    "width = (b-a)/n\n",
    "\n",
    "# Note that we omit the last term, as this would count a rectangle past the end of the range we want.\n",
    "# That this is correct can be seen by calculating the integral of a constant function, for which this\n",
    "# rectangle approach should be exactly correct. Try it!\n",
    "summ = 0\n",
    "#summ2 = 0\n",
    "for i in range(n-1):\n",
    "    summ += g(x[i])*dx\n",
    "#   summ2 += g(x[i])*width\n",
    "    \n",
    "print(\"Result using left rectangles is:\", summ)\n",
    "\n",
    "# Then do it using the trapezoid rule:\n",
    "trap = 0\n",
    "\n",
    "# ADD YOUR CODE HERE:\n",
    "for i in range(n-1):\n",
    "    trap += ((dx)*( g(x[i]) + g(x[i+1]) ))/2\n",
    "\n",
    "print(\"Result using trapezoid rule is: \", trap)"
   ]
  },
  {
   "cell_type": "markdown",
   "metadata": {},
   "source": [
    "Once this is working to your satisfaction, you should copy your code from the notebook with homework plots into the cell below. Then modify the calculation of the $a$ and $b$ coefficients to use the above formulas with the trapezoid rule. Use this to expand the function\n",
    "\n",
    "$$\n",
    "f(x)=x\\cos(x)+\\sqrt{|x|}\n",
    "$$\n",
    "\n",
    "on the interval $-2\\leq x \\leq2$, which, needless to say, would be difficult analytically :-). Plot the sum of the first 30 terms in the Fourier series, along with $f(x)$ itself."
   ]
  },
  {
   "cell_type": "code",
   "execution_count": 2,
   "metadata": {},
   "outputs": [
    {
     "data": {
      "image/png": "[encoded data removed]",
      "text/plain": [
       "<Figure size 432x288 with 1 Axes>"
      ]
     },
     "metadata": {
      "needs_background": "light"
     },
     "output_type": "display_data"
    }
   ],
   "source": [
    "from numpy import *\n",
    "import matplotlib.pyplot as plt\n",
    "\n",
    "# Number of grid points:\n",
    "n = 100\n",
    "\n",
    "# The expansion interval (runs from -L to L):\n",
    "L = 2\n",
    "\n",
    "# Number of terms in Fourier series to keep:\n",
    "n_terms = 30\n",
    "\n",
    "# The exact function being expanded (just for plotting):\n",
    "def f(x):\n",
    "    return x * cos(x) + sqrt(abs(x))\n",
    "\n",
    "# Set up arrays:\n",
    "x_min = -L\n",
    "x_max = L\n",
    "\n",
    "x = linspace(x_min, x_max, n)\n",
    "\n",
    "f_exact = ndarray(n)\n",
    "\n",
    "for i in range(n):\n",
    "    f_exact[i] = f(x[i])\n",
    "\n",
    "f_series = zeros(n)\n",
    "\n",
    "# Coefficients for cosine terms:\n",
    "a = zeros(n_terms)\n",
    "\n",
    "# Coefficients for sine terms:\n",
    "b = zeros(n_terms)\n",
    "\n",
    "# Calculate the a's -- ADD YOUR CODE HERE:\n",
    "for i in range(n_terms):\n",
    "    for j in range (n-1):\n",
    "        a[i] += ((dx)*( f(x[j])*cos((i*pi*x[j])/L) + f(x[j+1]) * cos((i*pi*x[j+1])/L) ))/2\n",
    "        \n",
    "        \n",
    "# Calculate the b's -- ADD YOUR CODE HERE:\n",
    "for i in range(n_terms):\n",
    "    for j in range (n-1):\n",
    "        b[i] += ((dx)*( f(x[j])*sin((i*pi*x[j])/L) + f(x[j+1]) * sin((i*pi*x[j+1])/L) ))/2\n",
    "\n",
    "    \n",
    "    \n",
    "# Now sum the series:\n",
    "for i in range(n):\n",
    "    f_series[i] = 0.5*a[0]\n",
    "    for j in range(1, n_terms):\n",
    "        f_series[i] += a[j]*cos(j*pi*x[i]/L) + b[j]*sin(j*pi*x[i]/L)\n",
    "\n",
    "# Draw the plots:\n",
    "plt.plot(x, f_exact, color='red', label='Exact function')\n",
    "plt.plot(x, f_series, color='blue', label='Series approximation')\n",
    "\n",
    "plt.title('Fourier Series')\n",
    "plt.xlabel(r'$x$')\n",
    "plt.ylabel(r'$f(x)$')\n",
    "plt.legend(loc='upper left')\n",
    "\n",
    "plt.show()"
   ]
  },
  {
   "cell_type": "code",
   "execution_count": null,
   "metadata": {},
   "outputs": [],
   "source": []
  }
 ],
 "metadata": {
  "kernelspec": {
   "display_name": "Python 3",
   "language": "python",
   "name": "python3"
  },
  "language_info": {
   "codemirror_mode": {
    "name": "ipython",
    "version": 3
   },
   "file_extension": ".py",
   "mimetype": "text/x-python",
   "name": "python",
   "nbconvert_exporter": "python",
   "pygments_lexer": "ipython3",
   "version": "3.7.3"
  }
 },
 "nbformat": 4,
 "nbformat_minor": 1
}
